{
 "cells": [
  {
   "cell_type": "markdown",
   "metadata": {},
   "source": [
    "## Import Necessary Packages "
   ]
  },
  {
   "cell_type": "code",
   "execution_count": 3,
   "metadata": {},
   "outputs": [],
   "source": [
    "import pandas as pd \n",
    "from gurobipy import Model, GRB, quicksum\n",
    "import gurobipy as gp \n"
   ]
  },
  {
   "cell_type": "markdown",
   "metadata": {},
   "source": [
    "## Initialize the Model"
   ]
  },
  {
   "cell_type": "code",
   "execution_count": 4,
   "metadata": {},
   "outputs": [
    {
     "name": "stdout",
     "output_type": "stream",
     "text": [
      "Set parameter Username\n",
      "Academic license - for non-commercial use only - expires 2025-02-06\n"
     ]
    }
   ],
   "source": [
    "model = gp.Model()  # Initialize a new model using Gurobi"
   ]
  },
  {
   "cell_type": "markdown",
   "metadata": {},
   "source": [
    "## Load Data from Files using Pandas\n",
    "\n",
    "For one of the sheets, it was required to change the name of the depot's to their basic identifier for reasons explained in the next step."
   ]
  },
  {
   "cell_type": "code",
   "execution_count": 5,
   "metadata": {},
   "outputs": [],
   "source": [
    "# Load data from Excel\n",
    "TransCostIN = pd.read_csv('/Users/joshuascantlebury/Downloads/TransCostIn.csv', index_col=0)\n",
    "DepotAbv = ['D1', 'D2', 'D3', 'D4', 'D5', 'D6', 'D7', 'D8', 'D9', 'D10','D11', 'D12', 'D13', 'D14', 'D15', 'D16', 'D17', 'D18', 'D19']\n",
    "TransCostIN.columns = DepotAbv\n",
    "TransCost = pd.read_csv('/Users/joshuascantlebury/Downloads/TransCost.csv', index_col=0)\n",
    "FixedCost = pd.read_csv('/Users/joshuascantlebury/Downloads/FixedCost.csv', header=None)\n",
    "FixedCost2 = pd.read_csv('/Users/joshuascantlebury/Downloads/FixedCost.csv', header=None,index_col=0)\n",
    "Demand = pd.read_csv('/Users/joshuascantlebury/Downloads/Demand.csv', index_col=0)\n",
    "Weights = pd.read_csv('/Users/joshuascantlebury/Downloads/Weights.csv',header=None)"
   ]
  },
  {
   "cell_type": "markdown",
   "metadata": {},
   "source": [
    "## Data Preparation and Label Extraction\n",
    "\n",
    "After loading the data, the script extracts labels that will be used as identifiers for the data frames. These labels are used for indexing variables in the optimization model:"
   ]
  },
  {
   "cell_type": "code",
   "execution_count": 6,
   "metadata": {},
   "outputs": [],
   "source": [
    "depots = TransCostIN.columns.to_list()  # Extract depot names\n",
    "parts = Demand.index.to_list()  # Extract part IDs\n",
    "customers = Demand.columns.to_list()  # Extract customer IDs\n",
    "suppliers = TransCostIN.index.tolist()  # Extract supplier IDs\n",
    "DictPartWeight = Weights.set_index(Weights.columns[0])[Weights.columns[1]].to_dict()  # Map part IDs to their weights\n"
   ]
  },
  {
   "cell_type": "markdown",
   "metadata": {},
   "source": [
    "## Model Initialization"
   ]
  },
  {
   "cell_type": "code",
   "execution_count": 7,
   "metadata": {},
   "outputs": [],
   "source": [
    "m = Model(\"spare_parts_logistics\")  # Initializes a new Gurobi model named \"spare_parts_logistics\"."
   ]
  },
  {
   "cell_type": "markdown",
   "metadata": {},
   "source": [
    "## Decision Variables\n",
    "\n",
    "Depot Usage (d): Binary variables indicating whether each depot is in use.\n",
    "\n",
    "Supplier to Depot Shipments (sd): Variable representing the amount of parts shipped from suppliers to depots.\n",
    "\n",
    "Depot to Customer Shipments (dc): Variable representing the amount of parts shipped from depots to customers."
   ]
  },
  {
   "cell_type": "code",
   "execution_count": 8,
   "metadata": {},
   "outputs": [],
   "source": [
    "d = m.addVars(depots, vtype=GRB.BINARY, name=\"DepotInUse\")\n",
    "sd = m.addVars(suppliers, depots, parts, vtype=GRB.CONTINUOUS, name=\"SupplierDepotShipment\")\n",
    "dc = m.addVars(depots, customers, parts, vtype=GRB.CONTINUOUS, name=\"DepotCustomerShipment\")\n"
   ]
  },
  {
   "cell_type": "markdown",
   "metadata": {},
   "source": [
    "## Objective Function\n",
    "\n",
    "The goal is to minimize the total cost, which consists of:\n",
    "\n",
    "1.\tFixed Costs for Using Depots: A fixed cost for each depot that is in use.\n",
    "\n",
    "2.\tTransportation Costs from Suppliers to Depots: Costs based on the weight of parts shipped from suppliers to depots.\n",
    "\n",
    "3.\tTransportation Costs from Depots to Customers: Costs based on the weight of parts shipped from depots to customers.\n"
   ]
  },
  {
   "cell_type": "code",
   "execution_count": 9,
   "metadata": {},
   "outputs": [],
   "source": [
    "m.setObjective(\n",
    "    sum(FixedCost2.loc[j,1] * d[j] for j in depots) +\n",
    "    sum(TransCostIN.loc[s, j] * sd[s, j, p] * DictPartWeight[p]  for s in suppliers for j in depots for p in parts) +\n",
    "    sum(TransCost.loc[k, j] * dc[j, k, p] * DictPartWeight[p] for j in depots for k in customers for p in parts),\n",
    "    GRB.MINIMIZE\n",
    ")\n"
   ]
  },
  {
   "cell_type": "markdown",
   "metadata": {},
   "source": [
    "## Constraints\n",
    "\n",
    "Supplier Weight Limit: With the exception of S1, each supplier can ship a maximum weight of 200,000kg of parts per year.\n",
    "\n",
    "Depot Capacity Limit: The total shipments through each depot must not exceed its respective capacity.\n",
    "\n",
    "Demand Fulfillment: The demand for each part at each customer location must be met exactly by shipments from depots.\n",
    "\n",
    "Service Level: Ensures each customer is within a certain service level constraint of an open depot. This constraint is to be modified to fit service level requirements by changing the cut-off price. Default setting is for 9-hour service time.\n",
    "\n",
    "Shipments Only If Depot Is Open: Ensures shipments from suppliers to depots and from depots to customers occur only if the depot is open.\n",
    "\n",
    "Inventory Balance: The total amount received at each depot from all suppliers is equivalent to the total amount shipped out to all customers."
   ]
  },
  {
   "cell_type": "code",
   "execution_count": 10,
   "metadata": {},
   "outputs": [],
   "source": [
    "#Supplier Weight Limit: Each supplier (except for the US) can ship up to 200,000 kg of parts per year. \n",
    "for s in suppliers:\n",
    "    if s != \"S1\":  \n",
    "        m.addConstr(\n",
    "            gp.quicksum(sd[s, j, p] * DictPartWeight[p] for p in parts for j in depots) <= 200000,\n",
    "            name=f\"SupplierWeightLimit_{s}\"\n",
    "        )\n",
    "# Depot Capacity Limit: Each depot's total shipment should not exceed its capacity.\n",
    "depot_capacity = {depot: 300000 if depot == \"D1\" else 150000 for depot in depots}\n",
    "\n",
    "\n",
    "for j in depots:\n",
    "    m.addConstr(\n",
    "          gp.quicksum(sd[s, j, p] * d[j] for s in suppliers for p in parts) +\n",
    "         (gp.quicksum(dc[j, k, p] * d[j] for k in customers for p in parts)) <= depot_capacity[j] * d[j],\n",
    "        name=f\"DepotCapacity_{j}\"\n",
    "    )\n",
    "\n",
    "#The demand for each part at each customer location must be met exactly by shipments from depots\n",
    "for p in parts:\n",
    "    for k in customers:\n",
    "        m.addConstr(\n",
    "            gp.quicksum(dc[j, k, p] for j in depots) == Demand.loc[p, k],\n",
    "            name=f\"DemandFulfillment_{p}_{k}\"\n",
    "        )\n",
    "\n",
    "# Creating a binary parameter indicating if a depot-customer pair is within the service level constraint. This constraint is to be adjusted accordingly to fit the service levels of $4.5,$5,$5.5 and $6.\n",
    "is_within_service_level = {(k, j): int(TransCost.loc[k, j] <= 5  ) for j in depots for k in customers}\n",
    "\n",
    "# Service Level Constraint: Ensuring each customer is within 9 hours of an open depot\n",
    "for k in customers:\n",
    "    m.addConstr(\n",
    "        gp.quicksum(is_within_service_level[k,j ] * d[j] for j in depots) >= 1,\n",
    "        name=f\"ServiceLevel_{k}\"\n",
    "    )\n",
    "\n",
    "# Constraint to ensure that shipments from suppliers to depots only occur if the depot is open\n",
    "for s in suppliers:\n",
    "    for j in depots:\n",
    "        for p in parts:\n",
    "            # Ensuring shipments are possible only if the depot is open.\n",
    "            m.addConstr(sd[s, j, p] <= depot_capacity[j] * d[j], f\"ShipFromSupplierToDepot_{s}_{j}_{p}\")\n",
    "\n",
    "# Constraint to ensure that shipments from depots to customers only occur if the depot is open\n",
    "for j in depots:\n",
    "    for k in customers:\n",
    "        for p in parts:\n",
    "            # Ensuring shipments are possible only if the depot is open.\n",
    "            m.addConstr(dc[j, k, p] <= depot_capacity[j] * d[j], f\"ShipFromDepotToCustomer_{j}_{k}_{p}\")\n",
    "\n",
    "\n",
    "#To ensure the total amount received at each depot from all suppliers is equivalent to the total amount shipped out to all customers\n",
    "for j in depots:\n",
    "    for p in parts:\n",
    "        # Total received at depot j for part p from all suppliers\n",
    "        total_received = gp.quicksum(sd[s, j, p] for s in suppliers)\n",
    "        \n",
    "        # Total shipped from depot j for part p to all customers\n",
    "        total_shipped = gp.quicksum(dc[j, k, p] for k in customers)\n",
    "        \n",
    "        m.addConstr(total_received == total_shipped, name=f\"InventoryBalance_{j}_{p}\")"
   ]
  },
  {
   "cell_type": "markdown",
   "metadata": {},
   "source": [
    "## Update the Model\n"
   ]
  },
  {
   "cell_type": "code",
   "execution_count": 11,
   "metadata": {},
   "outputs": [],
   "source": [
    "m.update()"
   ]
  },
  {
   "cell_type": "markdown",
   "metadata": {},
   "source": [
    "## Optimize the Model"
   ]
  },
  {
   "cell_type": "code",
   "execution_count": 12,
   "metadata": {},
   "outputs": [
    {
     "name": "stdout",
     "output_type": "stream",
     "text": [
      "Gurobi Optimizer version 11.0.0 build v11.0.0rc2 (mac64[arm] - Darwin 23.3.0 23D56)\n",
      "\n",
      "CPU model: Apple M1\n",
      "Thread count: 8 physical cores, 8 logical processors, using up to 8 threads\n",
      "\n",
      "Optimize a model with 338587 rows, 320948 columns and 1282363 nonzeros\n",
      "Model fingerprint: 0xd92ffaf2\n",
      "Model has 19 quadratic constraints\n",
      "Variable types: 320929 continuous, 19 integer (19 binary)\n",
      "Coefficient statistics:\n",
      "  Matrix range     [1e+00, 3e+05]\n",
      "  QMatrix range    [1e+00, 1e+00]\n",
      "  QLMatrix range   [2e+05, 3e+05]\n",
      "  Objective range  [1e+00, 4e+05]\n",
      "  Bounds range     [1e+00, 1e+00]\n",
      "  RHS range        [4e-03, 2e+05]\n",
      "Presolve removed 242728 rows and 230489 columns\n",
      "Presolve time: 0.67s\n",
      "Presolved: 189073 rows, 186409 columns, 726689 nonzeros\n",
      "Presolved model has 5510 SOS constraint(s)\n",
      "Variable types: 183635 continuous, 2774 integer (2774 binary)\n",
      "Deterministic concurrent LP optimizer: primal and dual simplex\n",
      "Showing primal log only...\n",
      "\n",
      "\n",
      "Root simplex log...\n",
      "\n",
      "Iteration    Objective       Primal Inf.    Dual Inf.      Time\n",
      "   14355    5.6503026e+06   0.000000e+00   2.786889e+07      5s\n",
      "Concurrent spin time: 0.00s\n",
      "\n",
      "Solved with dual simplex\n",
      "\n",
      "Root simplex log...\n",
      "\n",
      "Iteration    Objective       Primal Inf.    Dual Inf.      Time\n",
      "   21641    4.9417256e+06   0.000000e+00   0.000000e+00      8s\n",
      "\n",
      "Root relaxation: objective 4.941726e+06, 21641 iterations, 3.82 seconds (8.08 work units)\n",
      "\n",
      "    Nodes    |    Current Node    |     Objective Bounds      |     Work\n",
      " Expl Unexpl |  Obj  Depth IntInf | Incumbent    BestBd   Gap | It/Node Time\n",
      "\n",
      "     0     0 4941725.59    0    6          - 4941725.59      -     -    7s\n",
      "H    0     0                    5374985.6872 4941725.59  8.06%     -    8s\n",
      "H    0     0                    5054995.4104 4941725.59  2.24%     -    8s\n",
      "     0     0 4947445.14    0    6 5054995.41 4947445.14  2.13%     -    9s\n",
      "     0     2 4947445.14    0    6 5054995.41 4947445.14  2.13%     -    9s\n",
      "     1     4 4970746.54    1    5 5054995.41 4959880.04  1.88%   826   10s\n",
      "H   27     2                    5039767.1761 5004746.31  0.69%   645   14s\n",
      "*   29     2               6    5004750.4599 5004750.46  0.00%   626   14s\n",
      "\n",
      "Explored 31 nodes (39834 simplex iterations) in 14.12 seconds (35.38 work units)\n",
      "Thread count was 8 (of 8 available processors)\n",
      "\n",
      "Solution count 4: 5.00475e+06 5.03977e+06 5.055e+06 5.37499e+06 \n",
      "\n",
      "Optimal solution found (tolerance 1.00e-04)\n",
      "Best objective 5.004750459897e+06, best bound 5.004750459897e+06, gap 0.0000%\n"
     ]
    }
   ],
   "source": [
    "m.optimize()"
   ]
  },
  {
   "cell_type": "markdown",
   "metadata": {},
   "source": [
    "## Identifying Open Depots\n"
   ]
  },
  {
   "cell_type": "code",
   "execution_count": 13,
   "metadata": {},
   "outputs": [
    {
     "name": "stdout",
     "output_type": "stream",
     "text": [
      "Depot D1 is in use.\n",
      "Depot D2 is in use.\n",
      "Depot D3 is in use.\n",
      "Depot D4 is in use.\n",
      "Depot D5 is not in use.\n",
      "Depot D6 is not in use.\n",
      "Depot D7 is not in use.\n",
      "Depot D8 is not in use.\n",
      "Depot D9 is not in use.\n",
      "Depot D10 is not in use.\n",
      "Depot D11 is not in use.\n",
      "Depot D12 is not in use.\n",
      "Depot D13 is not in use.\n",
      "Depot D14 is not in use.\n",
      "Depot D15 is not in use.\n",
      "Depot D16 is in use.\n",
      "Depot D17 is in use.\n",
      "Depot D18 is not in use.\n",
      "Depot D19 is not in use.\n"
     ]
    }
   ],
   "source": [
    "depots_in_use = []\n",
    "for j in depots:\n",
    "    if d[j].X == 1:  # Checks if the decision variable for depot usage is set to 1 (open)\n",
    "        depots_in_use.append(j)\n",
    "        print(f\"Depot {j} is in use.\")\n",
    "    else:\n",
    "        print(f\"Depot {j} is not in use.\")\n"
   ]
  },
  {
   "cell_type": "markdown",
   "metadata": {},
   "source": [
    "## Printing the Objective Function Value"
   ]
  },
  {
   "cell_type": "code",
   "execution_count": 14,
   "metadata": {},
   "outputs": [
    {
     "name": "stdout",
     "output_type": "stream",
     "text": [
      "The Optimal Objective Value $5004750.46\n"
     ]
    }
   ],
   "source": [
    "objectivefunctionvalue = m.objVal\n",
    "print(f\"The Optimal Objective Value ${round(objectivefunctionvalue,2)}\")\n"
   ]
  },
  {
   "cell_type": "markdown",
   "metadata": {},
   "source": [
    "## Breaking Down Costs"
   ]
  },
  {
   "cell_type": "code",
   "execution_count": 15,
   "metadata": {},
   "outputs": [
    {
     "name": "stdout",
     "output_type": "stream",
     "text": [
      "Fixed Costs of Opening Depots: $ 1937637.0\n",
      "Variable Transportation Costs: $ 3067113.46\n"
     ]
    }
   ],
   "source": [
    "Fixed_Costs_Of_Opening_Depots = sum(FixedCost2.loc[j, 1] * d[j].X for j in depots)\n",
    "VariableTransportationCosts = sum(TransCostIN.loc[s, j] * sd[s, j, p].X * DictPartWeight[p] for s in suppliers for j in depots for p in parts) + sum(TransCost.loc[k, j] * dc[j, k, p].X * DictPartWeight[p] for j in depots for k in customers for p in parts)\n",
    "\n",
    "print(\"Fixed Costs of Opening Depots: $\", round(Fixed_Costs_Of_Opening_Depots,2))\n",
    "print(\"Variable Transportation Costs: $\", round(VariableTransportationCosts,2))\n"
   ]
  },
  {
   "cell_type": "markdown",
   "metadata": {},
   "source": [
    "## Total Parts Through Each Depot"
   ]
  },
  {
   "cell_type": "code",
   "execution_count": 16,
   "metadata": {},
   "outputs": [
    {
     "name": "stdout",
     "output_type": "stream",
     "text": [
      "Total weight passing through D1: 300000.0 units\n",
      "Total weight passing through D2: 150000.0 units\n",
      "Total weight passing through D3: 59901.0 units\n",
      "Total weight passing through D4: 141643.0 units\n",
      "Total weight passing through D16: 150000.0 units\n",
      "Total weight passing through D17: 150000.0 units\n"
     ]
    }
   ],
   "source": [
    "# Initialize a dictionary to store the total amount of parts passing through each depot\n",
    "depot_total_parts = {depot: 0 for depot in depots}\n",
    "\n",
    "# Calculate the total parts passing through each depot\n",
    "for j in depots:\n",
    "    for s in suppliers:\n",
    "        for p in parts:\n",
    "            depot_total_parts[j] += sd[s, j, p].X \n",
    "    \n",
    "    for k in customers:\n",
    "        for p in parts:\n",
    "            depot_total_parts[j] += dc[j, k, p].X \n",
    "\n",
    "# Print the total parts passing through each depot only if it's greater than 0\n",
    "for depot, total_parts in depot_total_parts.items():\n",
    "    if total_parts > 0: \n",
    "        print(f\"Total parts passing through {depot}: {round(total_parts,0)} units\")"
   ]
  },
  {
   "cell_type": "markdown",
   "metadata": {},
   "source": [
    "## Total Part Weight Through Each Depot"
   ]
  },
  {
   "cell_type": "code",
   "execution_count": 17,
   "metadata": {},
   "outputs": [
    {
     "name": "stdout",
     "output_type": "stream",
     "text": [
      "Total weight passing through D1: 519004.8 kg\n",
      "Total weight passing through D2: 252319.14 kg\n",
      "Total weight passing through D3: 97717.06 kg\n",
      "Total weight passing through D4: 228051.27 kg\n",
      "Total weight passing through D16: 248064.3 kg\n",
      "Total weight passing through D17: 237623.95 kg\n"
     ]
    }
   ],
   "source": [
    "# Initialize a dictionary to store the total weight of parts passing through each depot\n",
    "depot_total_weight = {depot: 0 for depot in depots}\n",
    "\n",
    "# Calculate the total weight passing through each depot\n",
    "for j in depots:\n",
    "    for s in suppliers:\n",
    "        for p in parts:\n",
    "            depot_total_weight[j] += sd[s, j, p].X * DictPartWeight[p]  \n",
    "    \n",
    "    for k in customers:\n",
    "        for p in parts:\n",
    "            depot_total_weight[j] += dc[j, k, p].X * DictPartWeight[p] \n",
    "\n",
    "# Print the total weight of parts passing through each depot only if it's greater than 0\n",
    "for depot, total_weight in depot_total_weight.items():\n",
    "    if total_weight > 0: \n",
    "        print(f\"Total weight passing through {depot}: {round(total_weight,2)} kg\")"
   ]
  },
  {
   "cell_type": "markdown",
   "metadata": {},
   "source": [
    "## Depot Utilization\n",
    "\n",
    "Understanding the operating capacity each depot."
   ]
  },
  {
   "cell_type": "code",
   "execution_count": 18,
   "metadata": {},
   "outputs": [
    {
     "name": "stdout",
     "output_type": "stream",
     "text": [
      "Depot D1: Capacity Utilization = 100.00%\n",
      "Depot D2: Capacity Utilization = 100.00%\n",
      "Depot D3: Capacity Utilization = 39.93%\n",
      "Depot D4: Capacity Utilization = 94.43%\n",
      "Depot D16: Capacity Utilization = 100.00%\n",
      "Depot D17: Capacity Utilization = 100.00%\n"
     ]
    }
   ],
   "source": [
    "# Determine the capacity of each depot\n",
    "depot_capacity = {depot: 300000 if depot == \"D1\" else 150000 for depot in depots}\n",
    "\n",
    "# Calculate and print the capacity utilization as a percentage\n",
    "depot_utilizations = {}\n",
    "for depot in depots:\n",
    "    if d[depot].X > 0.5:  # Check if the depot is considered open based on optimization result\n",
    "        utilization_percentage = (depot_total_parts[depot] / depot_capacity[depot]) * 100\n",
    "        depot_utilizations[depot] = utilization_percentage\n",
    "        print(f\"Depot {depot}: Capacity Utilization = {utilization_percentage:.2f}%\")"
   ]
  },
  {
   "cell_type": "code",
   "execution_count": 19,
   "metadata": {},
   "outputs": [
    {
     "name": "stdout",
     "output_type": "stream",
     "text": [
      "Depot D1: Capacity Utilization = 100.00%\n",
      "Depot D2: Capacity Utilization = 100.00%\n",
      "Depot D3: Capacity Utilization = 39.93%\n",
      "Depot D4: Capacity Utilization = 94.43%\n",
      "Depot D16: Capacity Utilization = 100.00%\n",
      "Depot D17: Capacity Utilization = 100.00%\n",
      "\n",
      "Depot(s) operating at the highest capacity utilization (100.00%): D2\n"
     ]
    }
   ],
   "source": [
    "# Determine the capacity of each depot\n",
    "depot_capacity = {depot: 300000 if depot == \"D1\" else 150000 for depot in depots}\n",
    "\n",
    "# Calculate capacity utilization as a percentage for each depot\n",
    "depot_utilizations = {}\n",
    "for depot in depots:\n",
    "    if d[depot].X > 0.5:  # Check if the depot is considered open based on optimization result\n",
    "        utilization_percentage = (depot_total_parts[depot] / depot_capacity[depot]) * 100\n",
    "        depot_utilizations[depot] = utilization_percentage\n",
    "\n",
    "# Print capacity utilization for each open depot\n",
    "for depot, utilization in depot_utilizations.items():\n",
    "    print(f\"Depot {depot}: Capacity Utilization = {utilization:.2f}%\")\n",
    "\n",
    "# Identify and print the depot(s) operating at the highest capacity\n",
    "max_utilization = max(depot_utilizations.values()) if depot_utilizations else 0\n",
    "highest_capacity_depots = [depot for depot, utilization in depot_utilizations.items() if utilization == max_utilization]"
   ]
  },
  {
   "cell_type": "markdown",
   "metadata": {},
   "source": [
    "## Key Customer Identification\n",
    "Identify the top 15 most important customers based on total parts ordered."
   ]
  },
  {
   "cell_type": "code",
   "execution_count": 20,
   "metadata": {},
   "outputs": [
    {
     "name": "stdout",
     "output_type": "stream",
     "text": [
      "Customer US ordered a total of 196162.0 parts and is serviced by depot(s): D1, D16\n",
      "Customer GB ordered a total of 79114.0 parts and is serviced by depot(s): D2, D17\n",
      "Customer CA ordered a total of 51891.0 parts and is serviced by depot(s): D1, D4\n",
      "Customer DE ordered a total of 24426.0 parts and is serviced by depot(s): D2\n",
      "Customer AU ordered a total of 15980.0 parts and is serviced by depot(s): D3\n",
      "Customer JP ordered a total of 15251.0 parts and is serviced by depot(s): D4\n",
      "Customer NL ordered a total of 13810.0 parts and is serviced by depot(s): D2\n",
      "Customer CN ordered a total of 5719.0 parts and is serviced by depot(s): D4\n",
      "Customer NO ordered a total of 5290.0 parts and is serviced by depot(s): D2, D4, D17\n",
      "Customer ES ordered a total of 5070.0 parts and is serviced by depot(s): D2\n",
      "Customer CH ordered a total of 4468.0 parts and is serviced by depot(s): D2\n",
      "Customer TW ordered a total of 4214.0 parts and is serviced by depot(s): D4\n",
      "Customer AT ordered a total of 3867.0 parts and is serviced by depot(s): D2\n",
      "Customer FR ordered a total of 3560.0 parts and is serviced by depot(s): D2\n",
      "Customer PG ordered a total of 3318.0 parts and is serviced by depot(s): D3\n"
     ]
    }
   ],
   "source": [
    "# Initialize a dictionary to hold the total quantity of parts ordered by each customer\n",
    "customer_total_parts_ordered = {customer: 0 for customer in customers}\n",
    "customer_allocation = {customer: [] for customer in customers}\n",
    "\n",
    "for j in depots:\n",
    "    for k in customers:\n",
    "        for p in parts:\n",
    "            if dc[j, k, p].X > 0:  \n",
    "                customer_total_parts_ordered[k] += dc[j, k, p].X  \n",
    "                if j not in customer_allocation[k]:\n",
    "                    customer_allocation[k].append(j)\n",
    "\n",
    "# Sort customers by the total parts ordered in descending order\n",
    "sorted_customers = sorted(customer_total_parts_ordered.items(), key=lambda x: x[1], reverse=True)\n",
    "\n",
    "\n",
    "top_15_customers = sorted_customers[:15]\n",
    "\n",
    "# Print the top 15 customers, their total parts ordered, and which depot(s) service them\n",
    "for customer, total_parts_ordered in top_15_customers:\n",
    "    allocated_depots_str = \", \".join(customer_allocation[customer]) if customer_allocation[customer] else \"No depots allocated\"\n",
    "    print(f\"Customer {customer} ordered a total of {round(total_parts_ordered,0)} parts and is serviced by depot(s): {allocated_depots_str}\")\n"
   ]
  },
  {
   "cell_type": "markdown",
   "metadata": {},
   "source": [
    "Identify all customers based on parts ordered"
   ]
  },
  {
   "cell_type": "code",
   "execution_count": 27,
   "metadata": {},
   "outputs": [
    {
     "name": "stdout",
     "output_type": "stream",
     "text": [
      "Customer US is serviced by depot(s): D1, D16\n",
      "Customer GB is serviced by depot(s): D2, D17\n",
      "Customer CA is serviced by depot(s): D1, D4\n",
      "Customer DE is serviced by depot(s): D2\n",
      "Customer AU is serviced by depot(s): D3\n",
      "Customer JP is serviced by depot(s): D4\n",
      "Customer NL is serviced by depot(s): D2\n",
      "Customer CN is serviced by depot(s): D4\n",
      "Customer NO is serviced by depot(s): D2, D4, D17\n",
      "Customer ES is serviced by depot(s): D2\n",
      "Customer CH is serviced by depot(s): D2\n",
      "Customer TW is serviced by depot(s): D4\n",
      "Customer AT is serviced by depot(s): D2\n",
      "Customer FR is serviced by depot(s): D2\n",
      "Customer PG is serviced by depot(s): D3\n",
      "Customer ZA is serviced by depot(s): D4\n",
      "Customer IN is serviced by depot(s): D4\n",
      "Customer IL is serviced by depot(s): D2, D4\n",
      "Customer AE is serviced by depot(s): D2, D4\n",
      "Customer BR is serviced by depot(s): D3, D16\n",
      "Customer AG is serviced by depot(s): D1, D3\n",
      "Customer NZ is serviced by depot(s): D3\n",
      "Customer SG is serviced by depot(s): D4\n",
      "Customer MX is serviced by depot(s): D3, D16\n",
      "Customer SI is serviced by depot(s): D2\n",
      "Customer HR is serviced by depot(s): D2\n",
      "Customer DK is serviced by depot(s): D2\n",
      "Customer IT is serviced by depot(s): D2, D4\n",
      "Customer PH is serviced by depot(s): D4\n",
      "Customer GR is serviced by depot(s): D2, D4\n",
      "Customer BE is serviced by depot(s): D2\n",
      "Customer PT is serviced by depot(s): D2, D4, D17\n",
      "Customer MT is serviced by depot(s): D2, D4\n",
      "Customer FI is serviced by depot(s): D2, D4\n",
      "Customer VE is serviced by depot(s): D2, D3, D16\n",
      "Customer NG is serviced by depot(s): D2, D4\n",
      "Customer MV is serviced by depot(s): D4\n",
      "Customer UY is serviced by depot(s): D3, D16\n",
      "Customer KZ is serviced by depot(s): D2, D4\n",
      "Customer ET is serviced by depot(s): D2, D4\n",
      "Customer YE is serviced by depot(s): D2, D4\n",
      "Customer AO is serviced by depot(s): D2, D4\n",
      "Customer HU is serviced by depot(s): D2, D4\n",
      "Customer EG is serviced by depot(s): D2, D4\n",
      "Customer AF is serviced by depot(s): D4\n",
      "Customer MY is serviced by depot(s): D4\n",
      "Customer SE is serviced by depot(s): D2, D4\n",
      "Customer QA is serviced by depot(s): D2, D4\n",
      "Customer KR is serviced by depot(s): D4\n",
      "Customer DZ is serviced by depot(s): D2, D4\n",
      "Customer CO is serviced by depot(s): D3, D16, D17\n",
      "Customer AR is serviced by depot(s): D3, D16\n",
      "Customer AN is serviced by depot(s): D2, D3\n",
      "Customer TT is serviced by depot(s): D2, D3, D16\n",
      "Customer SA is serviced by depot(s): D2, D4\n",
      "Customer IQ is serviced by depot(s): D2, D4\n",
      "Customer LU is serviced by depot(s): D2\n",
      "Customer BS is serviced by depot(s): D3, D16\n",
      "Customer PR is serviced by depot(s): D1, D3\n",
      "Customer TR is serviced by depot(s): D2, D4\n",
      "Customer GU is serviced by depot(s): D2, D4\n",
      "Customer PK is serviced by depot(s): D4\n",
      "Customer IS is serviced by depot(s): D2, D4, D17\n",
      "Customer PL is serviced by depot(s): D2, D4\n",
      "Customer TN is serviced by depot(s): D2, D4\n",
      "Customer LY is serviced by depot(s): D2, D4\n",
      "Customer LV is serviced by depot(s): D2, D4\n",
      "Customer UG is serviced by depot(s): D4\n",
      "Customer KE is serviced by depot(s): D2, D4\n",
      "Customer MO is serviced by depot(s): D4\n",
      "Customer IE is serviced by depot(s): D17\n",
      "Customer JO is serviced by depot(s): D2, D4\n",
      "Customer BF is serviced by depot(s): D2, D4\n",
      "Customer MA is serviced by depot(s): D2\n",
      "Customer BG is serviced by depot(s): D2, D4\n",
      "Customer ID is serviced by depot(s): D4\n",
      "Customer UA is serviced by depot(s): D2, D4\n",
      "Customer GA is serviced by depot(s): D2, D4\n",
      "Customer RU is serviced by depot(s): D2, D4\n",
      "Customer PA is serviced by depot(s): D3, D16\n",
      "Customer RO is serviced by depot(s): D2, D4\n",
      "Customer MZ is serviced by depot(s): D4\n",
      "Customer EE is serviced by depot(s): D2, D4\n",
      "Customer GE is serviced by depot(s): D2, D4\n",
      "Customer CZ is serviced by depot(s): D2\n",
      "Customer CR is serviced by depot(s): D3, D16\n",
      "Customer SN is serviced by depot(s): D2, D4\n",
      "Customer LB is serviced by depot(s): D2, D4\n",
      "Customer MK is serviced by depot(s): D2, D4\n",
      "Customer GT is serviced by depot(s): D3, D16\n",
      "Customer BD is serviced by depot(s): D4\n",
      "Customer EC is serviced by depot(s): D3, D16\n",
      "Customer BB is serviced by depot(s): D3, D16\n",
      "Customer BH is serviced by depot(s): D4\n",
      "Customer TZ is serviced by depot(s): D4\n",
      "Customer TH is serviced by depot(s): D4\n",
      "Customer CG is serviced by depot(s): D2, D4\n",
      "Customer SK is serviced by depot(s): D2\n",
      "Customer TM is serviced by depot(s): D2, D4\n",
      "Customer KY is serviced by depot(s): D2, D3, D16\n",
      "Customer CL is serviced by depot(s): D1, D3\n",
      "Customer KW is serviced by depot(s): D4\n",
      "Customer MH is serviced by depot(s): D3\n",
      "Customer TD is serviced by depot(s): D2, D4\n",
      "Customer VN is serviced by depot(s): D4\n",
      "Customer CV is serviced by depot(s): D2, D4\n",
      "Customer RW is serviced by depot(s): D4\n",
      "Customer ZM is serviced by depot(s): D4\n",
      "Customer MQ is serviced by depot(s): D3\n",
      "Customer AW is serviced by depot(s): D16\n",
      "Customer BW is serviced by depot(s): D2\n",
      "Customer MU is serviced by depot(s): D4\n",
      "Customer LC is serviced by depot(s): D1, D3\n",
      "Customer JM is serviced by depot(s): D2, D16\n",
      "Customer OM is serviced by depot(s): D4\n",
      "Customer CK is serviced by depot(s): D3\n",
      "Customer CY is serviced by depot(s): D4\n",
      "Customer SZ is serviced by depot(s): D4\n",
      "Customer VG is serviced by depot(s): D3\n"
     ]
    }
   ],
   "source": [
    "# Print the customersand which depot(s) service them\n",
    "for customer, total_parts_ordered in sorted_customers:\n",
    "    allocated_depots_str = \", \".join(customer_allocation[customer]) if customer_allocation[customer] else \"No depots allocated\"\n",
    "    print(f\"Customer {customer} is serviced by depot(s): {allocated_depots_str}\")\n"
   ]
  },
  {
   "cell_type": "markdown",
   "metadata": {},
   "source": [
    "## Model Complexity"
   ]
  },
  {
   "cell_type": "code",
   "execution_count": 21,
   "metadata": {},
   "outputs": [
    {
     "name": "stdout",
     "output_type": "stream",
     "text": [
      "The model has 320948 variables.\n",
      "The model has 338587 constraints.\n"
     ]
    }
   ],
   "source": [
    "num_variables = m.NumVars\n",
    "num_constraints = m.NumConstrs\n",
    "\n",
    "print(f\"The model has {num_variables} variables.\")\n",
    "print(f\"The model has {num_constraints} constraints.\")\n"
   ]
  },
  {
   "cell_type": "markdown",
   "metadata": {},
   "source": [
    "## Service Level Sensitivity "
   ]
  },
  {
   "cell_type": "markdown",
   "metadata": {},
   "source": [
    "To meet specific requirements, the service level constraint within the model can be changed by modifying the cutoff point to fit the acceptable threshold for service levels. This constraint translates all values below the cutoff into binary variables,  which will allow for the model to select depots that meet the service level criteria.\n",
    "This flexible approach will allow for the model to accommodate varying levels of service efficiency without having to make modifications to the code."
   ]
  },
  {
   "cell_type": "code",
   "execution_count": 31,
   "metadata": {},
   "outputs": [
    {
     "data": {
      "text/html": [
       "<div>\n",
       "<style scoped>\n",
       "    .dataframe tbody tr th:only-of-type {\n",
       "        vertical-align: middle;\n",
       "    }\n",
       "\n",
       "    .dataframe tbody tr th {\n",
       "        vertical-align: top;\n",
       "    }\n",
       "\n",
       "    .dataframe thead th {\n",
       "        text-align: right;\n",
       "    }\n",
       "</style>\n",
       "<table border=\"1\" class=\"dataframe\">\n",
       "  <thead>\n",
       "    <tr style=\"text-align: right;\">\n",
       "      <th></th>\n",
       "      <th>Cost</th>\n",
       "      <th>Depots Open</th>\n",
       "      <th>Total Cost</th>\n",
       "    </tr>\n",
       "  </thead>\n",
       "  <tbody>\n",
       "    <tr>\n",
       "      <th>0</th>\n",
       "      <td>$4.5</td>\n",
       "      <td>Infeasible</td>\n",
       "      <td>Infeasible</td>\n",
       "    </tr>\n",
       "    <tr>\n",
       "      <th>1</th>\n",
       "      <td>$5</td>\n",
       "      <td>D1, D2, D3, D4, D16, D17</td>\n",
       "      <td>$5,004,750.46</td>\n",
       "    </tr>\n",
       "    <tr>\n",
       "      <th>2</th>\n",
       "      <td>$5.5</td>\n",
       "      <td>D1, D4, D8, D10, D16, D17</td>\n",
       "      <td>$4,842,866.71</td>\n",
       "    </tr>\n",
       "    <tr>\n",
       "      <th>3</th>\n",
       "      <td>$6</td>\n",
       "      <td>D1, D4, D8, D10, D16, D17</td>\n",
       "      <td>$4,842,866.71</td>\n",
       "    </tr>\n",
       "  </tbody>\n",
       "</table>\n",
       "</div>"
      ],
      "text/plain": [
       "   Cost                Depots Open     Total Cost\n",
       "0  $4.5                 Infeasible     Infeasible\n",
       "1    $5   D1, D2, D3, D4, D16, D17  $5,004,750.46\n",
       "2  $5.5  D1, D4, D8, D10, D16, D17  $4,842,866.71\n",
       "3    $6  D1, D4, D8, D10, D16, D17  $4,842,866.71"
      ]
     },
     "execution_count": 31,
     "metadata": {},
     "output_type": "execute_result"
    }
   ],
   "source": [
    "\n",
    "service_level_table = {\n",
    "    \"Cost\": [\"$4.5\", \"$5\", \"$5.5\", \"$6\"],\n",
    "    \"Depots Open\": [\"Infeasible\", \"D1, D2, D3, D4, D16, D17\", \"D1, D4, D8, D10, D16, D17\", \"D1, D4, D8, D10, D16, D17\"],\n",
    "    \"Total Cost\": [\"Infeasible\", \"$5,004,750.46\", \"$4,842,866.71\", \"$4,842,866.71\"]\n",
    "}\n",
    "\n",
    "ServiceLevelSensitivity = pd.DataFrame(service_level_table)\n",
    "\n",
    "ServiceLevelSensitivity"
   ]
  },
  {
   "cell_type": "code",
   "execution_count": 30,
   "metadata": {},
   "outputs": [
    {
     "data": {
      "image/png": "[encoded data removed]",
      "text/plain": [
       "<Figure size 400x600 with 1 Axes>"
      ]
     },
     "metadata": {},
     "output_type": "display_data"
    }
   ],
   "source": [
    "import matplotlib.pyplot as plt\n",
    "\n",
    "service_levels = ['5', '5.5', '6']\n",
    "total_costs = [5004750.46, 4842866.71, 4842866.71]\n",
    "\n",
    "costs_hundreds_of_thousands = [cost / 100000 for cost in total_costs]\n",
    "\n",
    "plt.figure(figsize=(4, 6))\n",
    "bars = plt.bar(service_levels, costs_hundreds_of_thousands, color='teal')\n",
    "\n",
    "for bar in bars:\n",
    "    yval = bar.get_height()\n",
    "    plt.text(bar.get_x() + bar.get_width()/2, yval, round(yval, 2), ha='center', va='bottom')\n",
    "\n",
    "# Title and labels\n",
    "plt.title('Total Cost in Hundreds of Thousands by Service Level')\n",
    "plt.xlabel('Service Level Cost ($)')\n",
    "plt.ylabel('Total Cost (x $100,000)')\n",
    "\n",
    "\n",
    "# Display the plot\n",
    "plt.show()\n"
   ]
  },
  {
   "cell_type": "markdown",
   "metadata": {},
   "source": [
    "We recommend increasing the maximum flight time to 12 hours, assuming all costs have been factored in. In doing so, the operating costs are projected to decrease by approximately $161,883.25, which is around 3% compared to the operating costs at the current service level."
   ]
  }
 ],
 "metadata": {
  "kernelspec": {
   "display_name": "base",
   "language": "python",
   "name": "python3"
  },
  "language_info": {
   "codemirror_mode": {
    "name": "ipython",
    "version": 3
   },
   "file_extension": ".py",
   "mimetype": "text/x-python",
   "name": "python",
   "nbconvert_exporter": "python",
   "pygments_lexer": "ipython3",
   "version": "3.11.5"
  }
 },
 "nbformat": 4,
 "nbformat_minor": 2
}
